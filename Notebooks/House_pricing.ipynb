{
 "cells": [
  {
   "cell_type": "code",
   "execution_count": 3,
   "id": "db12e688",
   "metadata": {},
   "outputs": [],
   "source": [
    "!jt -t chesterish -lineh 130 -cellw 90% -N -vim -T -kl"
   ]
  },
  {
   "cell_type": "code",
   "execution_count": null,
   "id": "b27a34ca",
   "metadata": {},
   "outputs": [],
   "source": []
  }
 ],
 "metadata": {
  "kernelspec": {
   "display_name": "Python 3 (ipykernel)",
   "language": "python",
   "name": "python3"
  },
  "language_info": {
   "codemirror_mode": {
    "name": "ipython",
    "version": 3
   },
   "file_extension": ".py",
   "mimetype": "text/x-python",
   "name": "python",
   "nbconvert_exporter": "python",
   "pygments_lexer": "ipython3",
   "version": "3.9.13"
  }
 },
 "nbformat": 4,
 "nbformat_minor": 5
}
