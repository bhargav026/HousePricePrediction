{
 "cells": [
  {
   "cell_type": "markdown",
   "id": "f809aa25",
   "metadata": {},
   "source": [
    "## Model Training"
   ]
  },
  {
   "cell_type": "code",
   "execution_count": 1,
   "id": "97cd0ca1",
   "metadata": {},
   "outputs": [],
   "source": [
    "import pandas as pd"
   ]
  },
  {
   "cell_type": "code",
   "execution_count": 2,
   "id": "8c7c802a",
   "metadata": {},
   "outputs": [
    {
     "data": {
      "text/html": [
       "<div>\n",
       "<style scoped>\n",
       "    .dataframe tbody tr th:only-of-type {\n",
       "        vertical-align: middle;\n",
       "    }\n",
       "\n",
       "    .dataframe tbody tr th {\n",
       "        vertical-align: top;\n",
       "    }\n",
       "\n",
       "    .dataframe thead th {\n",
       "        text-align: right;\n",
       "    }\n",
       "</style>\n",
       "<table border=\"1\" class=\"dataframe\">\n",
       "  <thead>\n",
       "    <tr style=\"text-align: right;\">\n",
       "      <th></th>\n",
       "      <th>id</th>\n",
       "      <th>carat</th>\n",
       "      <th>cut</th>\n",
       "      <th>color</th>\n",
       "      <th>clarity</th>\n",
       "      <th>depth</th>\n",
       "      <th>table</th>\n",
       "      <th>x</th>\n",
       "      <th>y</th>\n",
       "      <th>z</th>\n",
       "      <th>price</th>\n",
       "    </tr>\n",
       "  </thead>\n",
       "  <tbody>\n",
       "    <tr>\n",
       "      <th>0</th>\n",
       "      <td>0</td>\n",
       "      <td>1.52</td>\n",
       "      <td>Premium</td>\n",
       "      <td>F</td>\n",
       "      <td>VS2</td>\n",
       "      <td>62.2</td>\n",
       "      <td>58.0</td>\n",
       "      <td>7.27</td>\n",
       "      <td>7.33</td>\n",
       "      <td>4.55</td>\n",
       "      <td>13619</td>\n",
       "    </tr>\n",
       "    <tr>\n",
       "      <th>1</th>\n",
       "      <td>1</td>\n",
       "      <td>2.03</td>\n",
       "      <td>Very Good</td>\n",
       "      <td>J</td>\n",
       "      <td>SI2</td>\n",
       "      <td>62.0</td>\n",
       "      <td>58.0</td>\n",
       "      <td>8.06</td>\n",
       "      <td>8.12</td>\n",
       "      <td>5.05</td>\n",
       "      <td>13387</td>\n",
       "    </tr>\n",
       "    <tr>\n",
       "      <th>2</th>\n",
       "      <td>2</td>\n",
       "      <td>0.70</td>\n",
       "      <td>Ideal</td>\n",
       "      <td>G</td>\n",
       "      <td>VS1</td>\n",
       "      <td>61.2</td>\n",
       "      <td>57.0</td>\n",
       "      <td>5.69</td>\n",
       "      <td>5.73</td>\n",
       "      <td>3.50</td>\n",
       "      <td>2772</td>\n",
       "    </tr>\n",
       "    <tr>\n",
       "      <th>3</th>\n",
       "      <td>3</td>\n",
       "      <td>0.32</td>\n",
       "      <td>Ideal</td>\n",
       "      <td>G</td>\n",
       "      <td>VS1</td>\n",
       "      <td>61.6</td>\n",
       "      <td>56.0</td>\n",
       "      <td>4.38</td>\n",
       "      <td>4.41</td>\n",
       "      <td>2.71</td>\n",
       "      <td>666</td>\n",
       "    </tr>\n",
       "    <tr>\n",
       "      <th>4</th>\n",
       "      <td>4</td>\n",
       "      <td>1.70</td>\n",
       "      <td>Premium</td>\n",
       "      <td>G</td>\n",
       "      <td>VS2</td>\n",
       "      <td>62.6</td>\n",
       "      <td>59.0</td>\n",
       "      <td>7.65</td>\n",
       "      <td>7.61</td>\n",
       "      <td>4.77</td>\n",
       "      <td>14453</td>\n",
       "    </tr>\n",
       "  </tbody>\n",
       "</table>\n",
       "</div>"
      ],
      "text/plain": [
       "   id  carat        cut color clarity  depth  table     x     y     z  price\n",
       "0   0   1.52    Premium     F     VS2   62.2   58.0  7.27  7.33  4.55  13619\n",
       "1   1   2.03  Very Good     J     SI2   62.0   58.0  8.06  8.12  5.05  13387\n",
       "2   2   0.70      Ideal     G     VS1   61.2   57.0  5.69  5.73  3.50   2772\n",
       "3   3   0.32      Ideal     G     VS1   61.6   56.0  4.38  4.41  2.71    666\n",
       "4   4   1.70    Premium     G     VS2   62.6   59.0  7.65  7.61  4.77  14453"
      ]
     },
     "execution_count": 2,
     "metadata": {},
     "output_type": "execute_result"
    }
   ],
   "source": [
    "data = pd.read_csv(\"./data/gemstone.csv\")\n",
    "data.head()"
   ]
  },
  {
   "cell_type": "code",
   "execution_count": 3,
   "id": "017086dd",
   "metadata": {},
   "outputs": [],
   "source": [
    "data = data.drop('id', axis = 1)"
   ]
  },
  {
   "cell_type": "code",
   "execution_count": 4,
   "id": "f65a9147",
   "metadata": {},
   "outputs": [],
   "source": [
    "# Independent and Dependent features\n",
    "X = data.drop('price',axis= 1)\n",
    "Y = data['price']"
   ]
  },
  {
   "cell_type": "code",
   "execution_count": 5,
   "id": "f2dd9b91",
   "metadata": {},
   "outputs": [],
   "source": [
    "# devide features into ordinal encoded and which should be scaled\n",
    "numerical_columns = X.columns[X.dtypes!='object']\n",
    "categorical_columns = X.columns[X.dtypes=='object']\n",
    "#categorical_cols = X.select_dtypes(include = 'object').columns     #one more way"
   ]
  },
  {
   "cell_type": "code",
   "execution_count": 44,
   "id": "3c5e8fad",
   "metadata": {},
   "outputs": [
    {
     "data": {
      "text/plain": [
       "Index(['carat', 'depth', 'table', 'x', 'y', 'z'], dtype='object')"
      ]
     },
     "execution_count": 44,
     "metadata": {},
     "output_type": "execute_result"
    }
   ],
   "source": [
    "numerical_columns"
   ]
  },
  {
   "cell_type": "code",
   "execution_count": 6,
   "id": "34ccb97e",
   "metadata": {},
   "outputs": [],
   "source": [
    "#define th custom ranking for each ordinal variable\n",
    "cut_map = [\"Fair\",\"Good\", \"Very Good\", \"Premium\",\"Ideal\"]\n",
    "color_map = ['D','E','F','G','H','I','J']\n",
    "clarity_map = ['I1', 'SI2','SI1','VS2', 'VS1','VVS2', 'VVS1', 'IF']"
   ]
  },
  {
   "cell_type": "code",
   "execution_count": 7,
   "id": "c99ef110",
   "metadata": {},
   "outputs": [],
   "source": [
    "from sklearn.impute import SimpleImputer #Handling the missing values\n",
    "from sklearn.preprocessing import StandardScaler #Handling feature scaling\n",
    "from sklearn.preprocessing import OrdinalEncoder #Ordinal Encoding\n",
    "\n",
    "##for pipelines\n",
    "from sklearn.pipeline import Pipeline\n",
    "from sklearn.compose import ColumnTransformer"
   ]
  },
  {
   "cell_type": "code",
   "execution_count": 45,
   "id": "b94e269c",
   "metadata": {},
   "outputs": [],
   "source": [
    "## Numerical  Pipeline\n",
    "num_pipeline = Pipeline(\n",
    "    steps =[\n",
    "        ('imputer', SimpleImputer(strategy='median')),\n",
    "        ('scaler', StandardScaler())\n",
    "    ]\n",
    ")\n",
    "\n",
    "## categorical Pipeline\n",
    "cat_pipeline = Pipeline(\n",
    "    steps = [\n",
    "        ('imputer', SimpleImputer(strategy='most_frequent')),\n",
    "        ('ordinalencoder', OrdinalEncoder(categories=[cut_map,color_map,clarity_map])),\n",
    "        ('scalar',StandardScaler()) #if one hot encoding is used then no need to do scaling for cat_features\n",
    "        \n",
    "    ]\n",
    "\n",
    ")\n",
    "\n",
    "preprocessor = ColumnTransformer([\n",
    "    ('num_pipeline', num_pipeline, numerical_columns),\n",
    "    ('cat_pipeline', cat_pipeline, categorical_columns)\n",
    "])"
   ]
  },
  {
   "cell_type": "code",
   "execution_count": 46,
   "id": "a6abe33c",
   "metadata": {},
   "outputs": [],
   "source": [
    "## Train-test split\n",
    "from sklearn.model_selection import train_test_split\n",
    "\n",
    "X_train, X_test, y_train, y_test = train_test_split(X,Y, test_size=0.3, random_state=26)"
   ]
  },
  {
   "cell_type": "code",
   "execution_count": 47,
   "id": "817b0355",
   "metadata": {},
   "outputs": [
    {
     "data": {
      "text/plain": [
       "array([[-1.03827974, -0.57236494, -0.63884359, ...,  0.87258537,\n",
       "        -1.54901656,  0.68207718],\n",
       "       [ 0.49517234,  0.81519874,  0.40173415, ..., -0.13387709,\n",
       "         0.29799615,  1.3481299 ],\n",
       "       [-0.58472349, -0.10984371, -0.11855472, ...,  0.87258537,\n",
       "        -1.54901656, -0.65002824],\n",
       "       ...,\n",
       "       [-0.17436308,  0.90770299, -0.63884359, ..., -1.14033954,\n",
       "         0.29799615,  0.01602447],\n",
       "       [-1.05987766, -0.10984371, -1.15913246, ...,  0.87258537,\n",
       "        -1.54901656, -0.65002824],\n",
       "       [-0.82230058,  0.53768601,  0.40173415, ..., -0.13387709,\n",
       "         0.29799615,  0.01602447]])"
      ]
     },
     "execution_count": 47,
     "metadata": {},
     "output_type": "execute_result"
    }
   ],
   "source": [
    "preprocessor.fit_transform(X_train)"
   ]
  },
  {
   "cell_type": "code",
   "execution_count": 64,
   "id": "30865dea",
   "metadata": {},
   "outputs": [],
   "source": [
    "X_train = pd.DataFrame(preprocessor.fit_transform(X_train), columns = preprocessor.feature_names_in_)\n",
    "X_test = pd.DataFrame(preprocessor.transform(X_test),columns = preprocessor.feature_names_in_)"
   ]
  },
  {
   "cell_type": "code",
   "execution_count": 65,
   "id": "39f0e89f",
   "metadata": {},
   "outputs": [
    {
     "data": {
      "text/html": [
       "<div>\n",
       "<style scoped>\n",
       "    .dataframe tbody tr th:only-of-type {\n",
       "        vertical-align: middle;\n",
       "    }\n",
       "\n",
       "    .dataframe tbody tr th {\n",
       "        vertical-align: top;\n",
       "    }\n",
       "\n",
       "    .dataframe thead th {\n",
       "        text-align: right;\n",
       "    }\n",
       "</style>\n",
       "<table border=\"1\" class=\"dataframe\">\n",
       "  <thead>\n",
       "    <tr style=\"text-align: right;\">\n",
       "      <th></th>\n",
       "      <th>carat</th>\n",
       "      <th>cut</th>\n",
       "      <th>color</th>\n",
       "      <th>clarity</th>\n",
       "      <th>depth</th>\n",
       "      <th>table</th>\n",
       "      <th>x</th>\n",
       "      <th>y</th>\n",
       "      <th>z</th>\n",
       "    </tr>\n",
       "  </thead>\n",
       "  <tbody>\n",
       "    <tr>\n",
       "      <th>0</th>\n",
       "      <td>-1.038280</td>\n",
       "      <td>-0.572365</td>\n",
       "      <td>-0.638844</td>\n",
       "      <td>-1.211573</td>\n",
       "      <td>-1.205666</td>\n",
       "      <td>-1.236871</td>\n",
       "      <td>0.872585</td>\n",
       "      <td>-1.549017</td>\n",
       "      <td>0.682077</td>\n",
       "    </tr>\n",
       "    <tr>\n",
       "      <th>1</th>\n",
       "      <td>0.495172</td>\n",
       "      <td>0.815199</td>\n",
       "      <td>0.401734</td>\n",
       "      <td>0.670746</td>\n",
       "      <td>0.643586</td>\n",
       "      <td>0.732380</td>\n",
       "      <td>-0.133877</td>\n",
       "      <td>0.297996</td>\n",
       "      <td>1.348130</td>\n",
       "    </tr>\n",
       "    <tr>\n",
       "      <th>2</th>\n",
       "      <td>-0.584723</td>\n",
       "      <td>-0.109844</td>\n",
       "      <td>-0.118555</td>\n",
       "      <td>-0.518087</td>\n",
       "      <td>-0.498599</td>\n",
       "      <td>-0.512882</td>\n",
       "      <td>0.872585</td>\n",
       "      <td>-1.549017</td>\n",
       "      <td>-0.650028</td>\n",
       "    </tr>\n",
       "    <tr>\n",
       "      <th>3</th>\n",
       "      <td>0.473574</td>\n",
       "      <td>0.352678</td>\n",
       "      <td>-0.638844</td>\n",
       "      <td>0.661739</td>\n",
       "      <td>0.589196</td>\n",
       "      <td>0.674461</td>\n",
       "      <td>0.872585</td>\n",
       "      <td>0.913667</td>\n",
       "      <td>-1.316081</td>\n",
       "    </tr>\n",
       "    <tr>\n",
       "      <th>4</th>\n",
       "      <td>0.538368</td>\n",
       "      <td>0.445182</td>\n",
       "      <td>0.401734</td>\n",
       "      <td>0.688758</td>\n",
       "      <td>0.643586</td>\n",
       "      <td>0.703420</td>\n",
       "      <td>-0.133877</td>\n",
       "      <td>-0.317675</td>\n",
       "      <td>1.348130</td>\n",
       "    </tr>\n",
       "  </tbody>\n",
       "</table>\n",
       "</div>"
      ],
      "text/plain": [
       "      carat       cut     color   clarity     depth     table         x  \\\n",
       "0 -1.038280 -0.572365 -0.638844 -1.211573 -1.205666 -1.236871  0.872585   \n",
       "1  0.495172  0.815199  0.401734  0.670746  0.643586  0.732380 -0.133877   \n",
       "2 -0.584723 -0.109844 -0.118555 -0.518087 -0.498599 -0.512882  0.872585   \n",
       "3  0.473574  0.352678 -0.638844  0.661739  0.589196  0.674461  0.872585   \n",
       "4  0.538368  0.445182  0.401734  0.688758  0.643586  0.703420 -0.133877   \n",
       "\n",
       "          y         z  \n",
       "0 -1.549017  0.682077  \n",
       "1  0.297996  1.348130  \n",
       "2 -1.549017 -0.650028  \n",
       "3  0.913667 -1.316081  \n",
       "4 -0.317675  1.348130  "
      ]
     },
     "execution_count": 65,
     "metadata": {},
     "output_type": "execute_result"
    }
   ],
   "source": [
    "X_train.head()"
   ]
  },
  {
   "cell_type": "code",
   "execution_count": 66,
   "id": "d019fdb1",
   "metadata": {},
   "outputs": [],
   "source": [
    "## Model Training\n",
    "\n",
    "from sklearn.linear_model import LinearRegression,Lasso,Ridge,ElasticNet\n",
    "from sklearn.metrics import r2_score,mean_absolute_error,mean_squared_error"
   ]
  },
  {
   "cell_type": "code",
   "execution_count": 67,
   "id": "e9228a8a",
   "metadata": {},
   "outputs": [
    {
     "data": {
      "text/plain": [
       "LinearRegression()"
      ]
     },
     "execution_count": 67,
     "metadata": {},
     "output_type": "execute_result"
    }
   ],
   "source": [
    "regression = LinearRegression()\n",
    "regression.fit(X_train, y_train)"
   ]
  },
  {
   "cell_type": "code",
   "execution_count": 68,
   "id": "3855ecd4",
   "metadata": {},
   "outputs": [
    {
     "data": {
      "text/plain": [
       "array([ 6432.96133053,  -131.99237194,   -67.38414897, -1800.0500053 ,\n",
       "        -402.79179145,   -72.81395309,    70.97192567,  -466.67896913,\n",
       "         651.19187544])"
      ]
     },
     "execution_count": 68,
     "metadata": {},
     "output_type": "execute_result"
    }
   ],
   "source": [
    "regression.coef_"
   ]
  },
  {
   "cell_type": "code",
   "execution_count": 69,
   "id": "c78c5bc8",
   "metadata": {},
   "outputs": [
    {
     "data": {
      "text/plain": [
       "3970.075630438145"
      ]
     },
     "execution_count": 69,
     "metadata": {},
     "output_type": "execute_result"
    }
   ],
   "source": [
    "regression.intercept_"
   ]
  },
  {
   "cell_type": "code",
   "execution_count": 71,
   "id": "e8ac6bca",
   "metadata": {},
   "outputs": [],
   "source": [
    "import numpy as np\n",
    "def model_eval(true, predicted):\n",
    "    mae = mean_absolute_error(true, predicted)\n",
    "    mse = mean_squared_error(true, predicted)\n",
    "    rmse = np.sqrt(mean_squared_error(true, predicted))\n",
    "    r2_square = r2_score(true, predicted)\n",
    "    return mae, rmse, r2_square"
   ]
  },
  {
   "cell_type": "code",
   "execution_count": 77,
   "id": "8eec3dd9",
   "metadata": {},
   "outputs": [
    {
     "name": "stdout",
     "output_type": "stream",
     "text": [
      "LinearRegression\n",
      "Model Training Performanance\n",
      "RMSE 1013.9535184211724\n",
      "MAE 676.2994474991389\n",
      "R2 score 0.9367432571017835\n",
      "========================================\n",
      "\n",
      "\n",
      "Lasso\n",
      "Model Training Performanance\n",
      "RMSE 1014.1054352668878\n",
      "MAE 677.441935854006\n",
      "R2 score 0.9367243006416023\n",
      "========================================\n",
      "\n",
      "\n",
      "Ridge\n",
      "Model Training Performanance\n",
      "RMSE 1013.9537459677163\n",
      "MAE 676.3304157770117\n",
      "R2 score 0.9367432287102359\n",
      "========================================\n",
      "\n",
      "\n",
      "Elasticnet\n",
      "Model Training Performanance\n",
      "RMSE 1536.3418219433838\n",
      "MAE 1065.391409510199\n",
      "R2 score 0.8547733099881201\n",
      "========================================\n",
      "\n",
      "\n"
     ]
    }
   ],
   "source": [
    "## Train multiple models\n",
    "\n",
    "models={\n",
    "    'LinearRegression':LinearRegression(),\n",
    "    'Lasso':Lasso(),\n",
    "    'Ridge':Ridge(),\n",
    "    'Elasticnet':ElasticNet()\n",
    "}\n",
    "\n",
    "model_list = []\n",
    "r2_list = []\n",
    "\n",
    "for i in range(len(list(models))):\n",
    "    model = list(models.values())[i]\n",
    "    model.fit(X_train, y_train)\n",
    "    \n",
    "    #make predictions\n",
    "    y_pred = model.predict(X_test)\n",
    "    \n",
    "    mae, rmse, r2_square = model_eval(y_test, y_pred)\n",
    "    \n",
    "    r2_list.append(r2_square)\n",
    "    \n",
    "    print(list(models.keys())[i])\n",
    "    model_list.append(list(models.keys())[i])\n",
    "    \n",
    "    print('Model Training Performanance')\n",
    "    print('RMSE',rmse)\n",
    "    print('MAE',mae)\n",
    "    print('R2 score', r2_square)\n",
    "    \n",
    "    print('='*40)\n",
    "    print('\\n')\n",
    "    "
   ]
  },
  {
   "cell_type": "code",
   "execution_count": 76,
   "id": "be369602",
   "metadata": {},
   "outputs": [
    {
     "data": {
      "text/plain": [
       "['LinearRegression', 'Lasso', 'Ridge', 'Elasticnet']"
      ]
     },
     "execution_count": 76,
     "metadata": {},
     "output_type": "execute_result"
    }
   ],
   "source": [
    "model_list"
   ]
  },
  {
   "cell_type": "code",
   "execution_count": null,
   "id": "ed38c824",
   "metadata": {},
   "outputs": [],
   "source": []
  }
 ],
 "metadata": {
  "kernelspec": {
   "display_name": "Python 3 (ipykernel)",
   "language": "python",
   "name": "python3"
  },
  "language_info": {
   "codemirror_mode": {
    "name": "ipython",
    "version": 3
   },
   "file_extension": ".py",
   "mimetype": "text/x-python",
   "name": "python",
   "nbconvert_exporter": "python",
   "pygments_lexer": "ipython3",
   "version": "3.9.13"
  }
 },
 "nbformat": 4,
 "nbformat_minor": 5
}
